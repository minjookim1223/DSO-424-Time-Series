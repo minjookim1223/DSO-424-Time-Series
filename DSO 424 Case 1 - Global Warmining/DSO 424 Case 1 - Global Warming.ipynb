{
 "cells": [
  {
   "cell_type": "markdown",
   "metadata": {},
   "source": [
    "## DSO 424: HW 1 (Global Warming)\n",
    "\n",
    "Global warming research has been very active. We will be looking at Nenana.txt, which consists of data that marks the \"unofficial start of spring\" for every year from 1917-2003.\n",
    "\n",
    "The original txt file is from the link given above, but it is password encrypted.\n",
    "Thus, we will change the .txt file to .csv file manually and read the file from the same directory.\n",
    "\n",
    "Source:\n",
    "https://daacdata.apps.nsidc.org/pub/DATASETS/NENANA/\n"
   ]
  },
  {
   "cell_type": "code",
   "execution_count": 1,
   "metadata": {},
   "outputs": [],
   "source": [
    "# Import necessary libraries\n",
    "import numpy as np\n",
    "import pandas as pd\n",
    "from datetime import datetime\n",
    "import matplotlib.pyplot as plt"
   ]
  },
  {
   "cell_type": "code",
   "execution_count": 2,
   "metadata": {},
   "outputs": [],
   "source": [
    "# Read the csv file\n",
    "nenana = pd.read_csv(\"nenana.csv\")"
   ]
  },
  {
   "cell_type": "markdown",
   "metadata": {},
   "source": [
    "## Defining our KPI\n",
    "\n",
    "We want to know the global warming trend from 1917-2003. Since nenana.csv contains a list of \"unffocial\" start of spring each year, we will be defining out KPI as the # of days it takes for each year to get to spring."
   ]
  },
  {
   "cell_type": "code",
   "execution_count": 3,
   "metadata": {},
   "outputs": [],
   "source": [
    "# Month dictionary\n",
    "month_dict = {'January': 1, 'February': 2, 'March': 3, 'April': 4, 'May': 5, 'June': 6,\n",
    "              'July': 7, 'August': 8, 'September': 9, 'October': 10, 'November': 11, 'December': 12}"
   ]
  },
  {
   "cell_type": "code",
   "execution_count": 4,
   "metadata": {
    "scrolled": false
   },
   "outputs": [],
   "source": [
    "# Get the dates column\n",
    "dates = []\n",
    "for i in nenana[\"Date & Time\"]:\n",
    "    dates.append(str(i))"
   ]
  },
  {
   "cell_type": "code",
   "execution_count": 5,
   "metadata": {},
   "outputs": [],
   "source": [
    "# Get the month and list column and assign it to months and days lists\n",
    "# These will be used as our input for datetime object\n",
    "# Each months and days list has 87 rows\n",
    "\n",
    "months = []\n",
    "days = []\n",
    "\n",
    "for i in dates:\n",
    "    space = 0\n",
    "    month = \"\"\n",
    "    day = \"\"\n",
    "    \n",
    "    for j in i:\n",
    "        if j == \" \":\n",
    "            space += 1\n",
    "        elif not j.isdigit():\n",
    "            month += j\n",
    "        elif j.isdigit():\n",
    "            day += j\n",
    "        if space == 2:\n",
    "            days.append(int(day))\n",
    "            months.append(month_dict[month])\n",
    "            break"
   ]
  },
  {
   "cell_type": "code",
   "execution_count": 6,
   "metadata": {},
   "outputs": [],
   "source": [
    "# Get the Year column\n",
    "# This will be used as our x-axis\n",
    "years = list(nenana['Year'])"
   ]
  },
  {
   "cell_type": "code",
   "execution_count": 7,
   "metadata": {},
   "outputs": [],
   "source": [
    "# Getting rid of 2004 at the end for 87 rows\n",
    "nenana = nenana[:len(nenana)-1]"
   ]
  },
  {
   "cell_type": "code",
   "execution_count": 8,
   "metadata": {},
   "outputs": [],
   "source": [
    "# Get the days it takes to get to spring every year\n",
    "spring_list = []\n",
    "for i in range(len(months)):\n",
    "    date_spring = datetime(years[i], months[i], days[i]) - datetime(years[i], 1, 1)\n",
    "    spring_list.append(date_spring.days)"
   ]
  },
  {
   "cell_type": "code",
   "execution_count": 9,
   "metadata": {},
   "outputs": [
    {
     "data": {
      "text/html": [
       "<div>\n",
       "<style scoped>\n",
       "    .dataframe tbody tr th:only-of-type {\n",
       "        vertical-align: middle;\n",
       "    }\n",
       "\n",
       "    .dataframe tbody tr th {\n",
       "        vertical-align: top;\n",
       "    }\n",
       "\n",
       "    .dataframe thead th {\n",
       "        text-align: right;\n",
       "    }\n",
       "</style>\n",
       "<table border=\"1\" class=\"dataframe\">\n",
       "  <thead>\n",
       "    <tr style=\"text-align: right;\">\n",
       "      <th></th>\n",
       "      <th>Year</th>\n",
       "      <th>Date &amp; Time</th>\n",
       "      <th>Spring_Days</th>\n",
       "    </tr>\n",
       "  </thead>\n",
       "  <tbody>\n",
       "    <tr>\n",
       "      <th>0</th>\n",
       "      <td>1917</td>\n",
       "      <td>April 30 at 11:30 AM</td>\n",
       "      <td>119</td>\n",
       "    </tr>\n",
       "    <tr>\n",
       "      <th>1</th>\n",
       "      <td>1918</td>\n",
       "      <td>May 11 at 9:33 AM</td>\n",
       "      <td>130</td>\n",
       "    </tr>\n",
       "    <tr>\n",
       "      <th>2</th>\n",
       "      <td>1919</td>\n",
       "      <td>May 3 at 2:33 PM</td>\n",
       "      <td>122</td>\n",
       "    </tr>\n",
       "    <tr>\n",
       "      <th>3</th>\n",
       "      <td>1920</td>\n",
       "      <td>May 11 at 10:46 AM</td>\n",
       "      <td>131</td>\n",
       "    </tr>\n",
       "    <tr>\n",
       "      <th>4</th>\n",
       "      <td>1921</td>\n",
       "      <td>May 11 at 6:42 AM</td>\n",
       "      <td>130</td>\n",
       "    </tr>\n",
       "    <tr>\n",
       "      <th>...</th>\n",
       "      <td>...</td>\n",
       "      <td>...</td>\n",
       "      <td>...</td>\n",
       "    </tr>\n",
       "    <tr>\n",
       "      <th>82</th>\n",
       "      <td>1999</td>\n",
       "      <td>April 29 at 9:47 PM</td>\n",
       "      <td>118</td>\n",
       "    </tr>\n",
       "    <tr>\n",
       "      <th>83</th>\n",
       "      <td>2000</td>\n",
       "      <td>May 1 at 10:47 AM</td>\n",
       "      <td>121</td>\n",
       "    </tr>\n",
       "    <tr>\n",
       "      <th>84</th>\n",
       "      <td>2001</td>\n",
       "      <td>May 8 at 1:00 PM</td>\n",
       "      <td>127</td>\n",
       "    </tr>\n",
       "    <tr>\n",
       "      <th>85</th>\n",
       "      <td>2002</td>\n",
       "      <td>May 7 at 9:27 PM</td>\n",
       "      <td>126</td>\n",
       "    </tr>\n",
       "    <tr>\n",
       "      <th>86</th>\n",
       "      <td>2003</td>\n",
       "      <td>April 29 at 6:22 PM</td>\n",
       "      <td>118</td>\n",
       "    </tr>\n",
       "  </tbody>\n",
       "</table>\n",
       "<p>87 rows × 3 columns</p>\n",
       "</div>"
      ],
      "text/plain": [
       "    Year           Date & Time  Spring_Days\n",
       "0   1917  April 30 at 11:30 AM          119\n",
       "1   1918     May 11 at 9:33 AM          130\n",
       "2   1919      May 3 at 2:33 PM          122\n",
       "3   1920    May 11 at 10:46 AM          131\n",
       "4   1921     May 11 at 6:42 AM          130\n",
       "..   ...                   ...          ...\n",
       "82  1999   April 29 at 9:47 PM          118\n",
       "83  2000     May 1 at 10:47 AM          121\n",
       "84  2001      May 8 at 1:00 PM          127\n",
       "85  2002      May 7 at 9:27 PM          126\n",
       "86  2003   April 29 at 6:22 PM          118\n",
       "\n",
       "[87 rows x 3 columns]"
      ]
     },
     "execution_count": 9,
     "metadata": {},
     "output_type": "execute_result"
    }
   ],
   "source": [
    "# Attach \"Spring_Days\" column in nenana\n",
    "nenana[\"Spring_Days\"] = spring_list\n",
    "nenana"
   ]
  },
  {
   "cell_type": "markdown",
   "metadata": {},
   "source": [
    "## Discovering the Data Trend\n",
    "Now that we have our KPI column, we can use it to find the global warming trend.\n",
    "We are going to find the mean # of days it took for spring to start from 1917-1959 and 1960-2003."
   ]
  },
  {
   "cell_type": "code",
   "execution_count": 10,
   "metadata": {},
   "outputs": [],
   "source": [
    "# We are going to find out the mean number of days it took to get to spring before 1960 and starting from 1960\n",
    "# Get two data frames, starting from 1917-1959 and 1960-2003\n",
    "\n",
    "earlier = nenana.loc[nenana['Year'] < 1960]\n",
    "later = nenana.loc[nenana['Year'] >= 1960]"
   ]
  },
  {
   "cell_type": "code",
   "execution_count": 11,
   "metadata": {},
   "outputs": [],
   "source": [
    "# Find the mean for \"earlier\" list and \"later\" list\n",
    "\n",
    "early_mean = earlier['Spring_Days'].mean()\n",
    "late_mean = later['Spring_Days'].mean()"
   ]
  },
  {
   "cell_type": "code",
   "execution_count": 12,
   "metadata": {},
   "outputs": [],
   "source": [
    "# We are planning to draw two horizontal lines that signify the \"earlier mean\" and \"later mean\"\n",
    "# The matplotlib library only allows us to input matrices with equal dimensions.\n",
    "# Thus, we have to make sure that the earlier_mean_list and later_mean_list have the same length (87)\n",
    "# Ex) For earlier_mean_list, we fill out the list with earlier_mean up to 1959 and the rest with None\n",
    "\n",
    "early_mean_list = []\n",
    "late_mean_list = []\n",
    "\n",
    "for i in range(1917, 2004):\n",
    "    if i < 1960:\n",
    "        early_mean_list.append(early_mean)\n",
    "        late_mean_list.append(None)\n",
    "    else:\n",
    "        early_mean_list.append(None)\n",
    "        late_mean_list.append(late_mean)"
   ]
  },
  {
   "cell_type": "code",
   "execution_count": 13,
   "metadata": {},
   "outputs": [
    {
     "name": "stdout",
     "output_type": "stream",
     "text": [
      "Mean # of days for spring to start: \n",
      "1917-1959: 124.93 days\n",
      "1960-2003: 122.98 days\n"
     ]
    }
   ],
   "source": [
    "print(\"Mean # of days for spring to start: \")\n",
    "print(\"1917-1959:\", round(early_mean, 2), \"days\")\n",
    "print(\"1960-2003:\", round(late_mean, 2), \"days\")"
   ]
  },
  {
   "cell_type": "markdown",
   "metadata": {},
   "source": [
    "Based on my graph of Global Warming Pattern, the average number of days it took to get to spring before 1960 was about 123 days while the same KPI for for 1960-2003 was estimated to be about 125 days. The global warming may have been the cause for the difference in days it takes to get to spring."
   ]
  },
  {
   "cell_type": "markdown",
   "metadata": {},
   "source": [
    "## Let's plot the data: mean values\n",
    "\n",
    "We are going to plot our KPI for eah year from 1917-2003. We will also be plotting our mean values for two time frames (1917-1959 and 1960-2003) to see the pattern."
   ]
  },
  {
   "cell_type": "code",
   "execution_count": 14,
   "metadata": {},
   "outputs": [
    {
     "data": {
      "image/png": "[encoded data removed]",
      "text/plain": [
       "<Figure size 432x288 with 1 Axes>"
      ]
     },
     "metadata": {
      "needs_background": "light"
     },
     "output_type": "display_data"
    }
   ],
   "source": [
    "# Plot the number of days it took to get to spring each year from 1917-2004\n",
    "# Plot the data mean number of days < 1960 and >= 1960.\n",
    "# Notice how it took a bit less for \n",
    "\n",
    "plt.scatter(nenana[\"Year\"], nenana[\"Spring_Days\"],  linestyle='--')\n",
    "plt.plot(range(1917, 2004), early_mean_list, color='r')\n",
    "plt.plot(range(1917, 2004), late_mean_list, 'g')\n",
    "\n",
    "plt.xlabel('Year')\n",
    "plt.ylabel('# of Days for the Unofficial Start of Spring')\n",
    "plt.title('Global Warming Pattern')\n",
    "\n",
    "plt.show()"
   ]
  },
  {
   "cell_type": "markdown",
   "metadata": {},
   "source": [
    "## Let's plot the data (2): Regression\n",
    "\n",
    "We will be graphing our \"Spring_Days\" column again. Earlier, we used a rudimentary method of diving the dataset into two time frames and graphing two horizontal lines that describe the mean for each timeframe. This time, we will be drawing a regression line to see a better representation of the global warming trend."
   ]
  },
  {
   "cell_type": "code",
   "execution_count": 15,
   "metadata": {},
   "outputs": [],
   "source": [
    "x = nenana[\"Year\"]\n",
    "y = nenana[\"Spring_Days\"]\n",
    "\n",
    "coef = np.polyfit(x, y, 1)\n",
    "func = np.poly1d(coef)"
   ]
  },
  {
   "cell_type": "code",
   "execution_count": 16,
   "metadata": {},
   "outputs": [
    {
     "data": {
      "image/png": "[encoded data removed]",
      "text/plain": [
       "<Figure size 432x288 with 1 Axes>"
      ]
     },
     "metadata": {
      "needs_background": "light"
     },
     "output_type": "display_data"
    }
   ],
   "source": [
    "plt.scatter(x, y)\n",
    "plt.plot(x, func(x), color='r')\n",
    "\n",
    "plt.xlabel('Year')\n",
    "plt.ylabel('# of Days for the Unofficial Start of Spring')\n",
    "plt.title('Global Warming Pattern')\n",
    "\n",
    "plt.show()"
   ]
  },
  {
   "cell_type": "code",
   "execution_count": 17,
   "metadata": {},
   "outputs": [],
   "source": [
    "# Get the data points for the regression line from 1917-2003\n",
    "m, b = coef\n",
    "regression_list = []\n",
    "\n",
    "for i in range(1917, 2004):\n",
    "    regression_list.append(m*i + b)\n",
    "\n",
    "residuals = np.array(nenana[\"Spring_Days\"])-np.array(regression_list)"
   ]
  },
  {
   "cell_type": "code",
   "execution_count": 30,
   "metadata": {},
   "outputs": [
    {
     "data": {
      "image/png": "[encoded data removed]",
      "text/plain": [
       "<Figure size 432x288 with 1 Axes>"
      ]
     },
     "metadata": {
      "needs_background": "light"
     },
     "output_type": "display_data"
    }
   ],
   "source": [
    "start_year = nenana[\"Year\"][0]\n",
    "end_year = nenana[\"Year\"][len(nenana[\"Year\"])-1]\n",
    "\n",
    "plt.hlines(0, start_year, end_year, color=\"black\")\n",
    "plt.scatter(x, residuals)\n",
    "\n",
    "plt.title(\"Residual Plot - Global Warming Trend\")\n",
    "plt.xlabel(\"Years\")\n",
    "plt.ylabel(\"Residuals\")\n",
    "\n",
    "plt.show()"
   ]
  },
  {
   "cell_type": "code",
   "execution_count": 19,
   "metadata": {},
   "outputs": [
    {
     "name": "stdout",
     "output_type": "stream",
     "text": [
      "r^2: 0.081\n",
      "r: -0.284\n"
     ]
    }
   ],
   "source": [
    "correlation_matrix = np.corrcoef(x, y)\n",
    "correlation_xy = correlation_matrix[0,1]\n",
    "r = correlation_xy\n",
    "\n",
    "print(\"r^2:\", round(r**2, 3))\n",
    "print(\"r:\", round(r, 3))"
   ]
  },
  {
   "cell_type": "code",
   "execution_count": null,
   "metadata": {},
   "outputs": [],
   "source": []
  }
 ],
 "metadata": {
  "kernelspec": {
   "display_name": "Python 3",
   "language": "python",
   "name": "python3"
  },
  "language_info": {
   "codemirror_mode": {
    "name": "ipython",
    "version": 3
   },
   "file_extension": ".py",
   "mimetype": "text/x-python",
   "name": "python",
   "nbconvert_exporter": "python",
   "pygments_lexer": "ipython3",
   "version": "3.8.2"
  }
 },
 "nbformat": 4,
 "nbformat_minor": 4
}
